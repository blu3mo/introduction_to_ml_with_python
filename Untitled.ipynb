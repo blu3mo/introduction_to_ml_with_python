{
 "cells": [
  {
   "cell_type": "code",
   "execution_count": 3,
   "metadata": {},
   "outputs": [
    {
     "name": "stdout",
     "output_type": "stream",
     "text": [
      "Requirement already satisfied: flair in /Users/bluemountain/opt/anaconda3/lib/python3.7/site-packages (0.4.5)\n",
      "Requirement already satisfied: pytest>=5.3.2 in /Users/bluemountain/opt/anaconda3/lib/python3.7/site-packages (from flair) (5.3.5)\n",
      "Requirement already satisfied: tqdm>=4.26.0 in /Users/bluemountain/opt/anaconda3/lib/python3.7/site-packages (from flair) (4.42.1)\n",
      "Requirement already satisfied: segtok>=1.5.7 in /Users/bluemountain/opt/anaconda3/lib/python3.7/site-packages (from flair) (1.5.7)\n",
      "Requirement already satisfied: bpemb>=0.2.9 in /Users/bluemountain/opt/anaconda3/lib/python3.7/site-packages (from flair) (0.3.0)\n",
      "Requirement already satisfied: langdetect in /Users/bluemountain/opt/anaconda3/lib/python3.7/site-packages (from flair) (1.0.8)\n",
      "Requirement already satisfied: regex in /Users/bluemountain/opt/anaconda3/lib/python3.7/site-packages (from flair) (2020.2.20)\n",
      "Requirement already satisfied: deprecated>=1.2.4 in /Users/bluemountain/opt/anaconda3/lib/python3.7/site-packages (from flair) (1.2.7)\n",
      "Requirement already satisfied: urllib3<1.25,>=1.20 in /Users/bluemountain/opt/anaconda3/lib/python3.7/site-packages (from flair) (1.24.3)\n",
      "Requirement already satisfied: sqlitedict>=1.6.0 in /Users/bluemountain/opt/anaconda3/lib/python3.7/site-packages (from flair) (1.6.0)\n",
      "Requirement already satisfied: gensim>=3.4.0 in /Users/bluemountain/opt/anaconda3/lib/python3.7/site-packages (from flair) (3.8.1)\n",
      "Requirement already satisfied: mpld3==0.3 in /Users/bluemountain/opt/anaconda3/lib/python3.7/site-packages (from flair) (0.3)\n",
      "Requirement already satisfied: torch>=1.1.0 in /Users/bluemountain/opt/anaconda3/lib/python3.7/site-packages (from flair) (1.4.0)\n",
      "Requirement already satisfied: hyperopt>=0.1.1 in /Users/bluemountain/opt/anaconda3/lib/python3.7/site-packages (from flair) (0.2.3)\n",
      "Requirement already satisfied: scikit-learn>=0.21.3 in /Users/bluemountain/opt/anaconda3/lib/python3.7/site-packages (from flair) (0.22.1)\n",
      "Requirement already satisfied: transformers>=2.3.0 in /Users/bluemountain/opt/anaconda3/lib/python3.7/site-packages (from flair) (2.5.1)\n",
      "Requirement already satisfied: python-dateutil>=2.6.1 in /Users/bluemountain/opt/anaconda3/lib/python3.7/site-packages (from flair) (2.8.1)\n",
      "Requirement already satisfied: matplotlib>=2.2.3 in /Users/bluemountain/opt/anaconda3/lib/python3.7/site-packages (from flair) (3.1.3)\n",
      "Requirement already satisfied: tabulate in /Users/bluemountain/opt/anaconda3/lib/python3.7/site-packages (from flair) (0.8.7)\n",
      "Requirement already satisfied: py>=1.5.0 in /Users/bluemountain/opt/anaconda3/lib/python3.7/site-packages (from pytest>=5.3.2->flair) (1.8.1)\n",
      "Requirement already satisfied: packaging in /Users/bluemountain/opt/anaconda3/lib/python3.7/site-packages (from pytest>=5.3.2->flair) (20.1)\n",
      "Requirement already satisfied: attrs>=17.4.0 in /Users/bluemountain/opt/anaconda3/lib/python3.7/site-packages (from pytest>=5.3.2->flair) (19.3.0)\n",
      "Requirement already satisfied: more-itertools>=4.0.0 in /Users/bluemountain/opt/anaconda3/lib/python3.7/site-packages (from pytest>=5.3.2->flair) (8.2.0)\n",
      "Requirement already satisfied: pluggy<1.0,>=0.12 in /Users/bluemountain/opt/anaconda3/lib/python3.7/site-packages (from pytest>=5.3.2->flair) (0.13.1)\n",
      "Requirement already satisfied: wcwidth in /Users/bluemountain/opt/anaconda3/lib/python3.7/site-packages (from pytest>=5.3.2->flair) (0.1.8)\n",
      "Requirement already satisfied: importlib-metadata>=0.12 in /Users/bluemountain/opt/anaconda3/lib/python3.7/site-packages (from pytest>=5.3.2->flair) (1.5.0)\n",
      "Requirement already satisfied: sentencepiece in /Users/bluemountain/opt/anaconda3/lib/python3.7/site-packages (from bpemb>=0.2.9->flair) (0.1.85)\n",
      "Requirement already satisfied: numpy in /Users/bluemountain/opt/anaconda3/lib/python3.7/site-packages (from bpemb>=0.2.9->flair) (1.18.1)\n",
      "Requirement already satisfied: requests in /Users/bluemountain/opt/anaconda3/lib/python3.7/site-packages (from bpemb>=0.2.9->flair) (2.22.0)\n",
      "Requirement already satisfied: six in /Users/bluemountain/opt/anaconda3/lib/python3.7/site-packages (from langdetect->flair) (1.14.0)\n",
      "Requirement already satisfied: wrapt<2,>=1.10 in /Users/bluemountain/opt/anaconda3/lib/python3.7/site-packages (from deprecated>=1.2.4->flair) (1.11.2)\n",
      "Requirement already satisfied: scipy>=0.18.1 in /Users/bluemountain/opt/anaconda3/lib/python3.7/site-packages (from gensim>=3.4.0->flair) (1.4.1)\n",
      "Requirement already satisfied: smart-open>=1.8.1 in /Users/bluemountain/opt/anaconda3/lib/python3.7/site-packages (from gensim>=3.4.0->flair) (1.9.0)\n",
      "Requirement already satisfied: networkx==2.2 in /Users/bluemountain/opt/anaconda3/lib/python3.7/site-packages (from hyperopt>=0.1.1->flair) (2.2)\n",
      "Requirement already satisfied: future in /Users/bluemountain/opt/anaconda3/lib/python3.7/site-packages (from hyperopt>=0.1.1->flair) (0.18.2)\n",
      "Requirement already satisfied: cloudpickle in /Users/bluemountain/opt/anaconda3/lib/python3.7/site-packages (from hyperopt>=0.1.1->flair) (1.3.0)\n",
      "Requirement already satisfied: joblib>=0.11 in /Users/bluemountain/opt/anaconda3/lib/python3.7/site-packages (from scikit-learn>=0.21.3->flair) (0.14.1)\n",
      "Requirement already satisfied: sacremoses in /Users/bluemountain/opt/anaconda3/lib/python3.7/site-packages (from transformers>=2.3.0->flair) (0.0.38)\n",
      "Requirement already satisfied: boto3 in /Users/bluemountain/opt/anaconda3/lib/python3.7/site-packages (from transformers>=2.3.0->flair) (1.12.21)\n",
      "Requirement already satisfied: tokenizers==0.5.2 in /Users/bluemountain/opt/anaconda3/lib/python3.7/site-packages (from transformers>=2.3.0->flair) (0.5.2)\n",
      "Requirement already satisfied: filelock in /Users/bluemountain/opt/anaconda3/lib/python3.7/site-packages (from transformers>=2.3.0->flair) (3.0.12)\n",
      "Requirement already satisfied: pyparsing!=2.0.4,!=2.1.2,!=2.1.6,>=2.0.1 in /Users/bluemountain/opt/anaconda3/lib/python3.7/site-packages (from matplotlib>=2.2.3->flair) (2.4.6)\n",
      "Requirement already satisfied: cycler>=0.10 in /Users/bluemountain/opt/anaconda3/lib/python3.7/site-packages (from matplotlib>=2.2.3->flair) (0.10.0)\n",
      "Requirement already satisfied: kiwisolver>=1.0.1 in /Users/bluemountain/opt/anaconda3/lib/python3.7/site-packages (from matplotlib>=2.2.3->flair) (1.1.0)\n",
      "Requirement already satisfied: zipp>=0.5 in /Users/bluemountain/opt/anaconda3/lib/python3.7/site-packages (from importlib-metadata>=0.12->pytest>=5.3.2->flair) (2.2.0)\n",
      "Requirement already satisfied: certifi>=2017.4.17 in /Users/bluemountain/opt/anaconda3/lib/python3.7/site-packages (from requests->bpemb>=0.2.9->flair) (2019.11.28)\n",
      "Requirement already satisfied: idna<2.9,>=2.5 in /Users/bluemountain/opt/anaconda3/lib/python3.7/site-packages (from requests->bpemb>=0.2.9->flair) (2.8)\n",
      "Requirement already satisfied: chardet<3.1.0,>=3.0.2 in /Users/bluemountain/opt/anaconda3/lib/python3.7/site-packages (from requests->bpemb>=0.2.9->flair) (3.0.4)\n",
      "Requirement already satisfied: boto>=2.32 in /Users/bluemountain/opt/anaconda3/lib/python3.7/site-packages (from smart-open>=1.8.1->gensim>=3.4.0->flair) (2.49.0)\n",
      "Requirement already satisfied: decorator>=4.3.0 in /Users/bluemountain/opt/anaconda3/lib/python3.7/site-packages (from networkx==2.2->hyperopt>=0.1.1->flair) (4.4.1)\n",
      "Requirement already satisfied: click in /Users/bluemountain/opt/anaconda3/lib/python3.7/site-packages (from sacremoses->transformers>=2.3.0->flair) (7.0)\n",
      "Requirement already satisfied: s3transfer<0.4.0,>=0.3.0 in /Users/bluemountain/opt/anaconda3/lib/python3.7/site-packages (from boto3->transformers>=2.3.0->flair) (0.3.3)\n",
      "Requirement already satisfied: botocore<1.16.0,>=1.15.21 in /Users/bluemountain/opt/anaconda3/lib/python3.7/site-packages (from boto3->transformers>=2.3.0->flair) (1.15.21)\n",
      "Requirement already satisfied: jmespath<1.0.0,>=0.7.1 in /Users/bluemountain/opt/anaconda3/lib/python3.7/site-packages (from boto3->transformers>=2.3.0->flair) (0.9.5)\n",
      "Requirement already satisfied: setuptools in /Users/bluemountain/opt/anaconda3/lib/python3.7/site-packages (from kiwisolver>=1.0.1->matplotlib>=2.2.3->flair) (46.0.0.post20200309)\n",
      "Requirement already satisfied: docutils<0.16,>=0.10 in /Users/bluemountain/opt/anaconda3/lib/python3.7/site-packages (from botocore<1.16.0,>=1.15.21->boto3->transformers>=2.3.0->flair) (0.15.2)\n"
     ]
    },
    {
     "ename": "ImportError",
     "evalue": "dlopen(/Users/bluemountain/opt/anaconda3/lib/python3.7/site-packages/torch/_C.cpython-37m-darwin.so, 9): Library not loaded: @rpath/libshm.dylib\n  Referenced from: /Users/bluemountain/opt/anaconda3/lib/python3.7/site-packages/torch/_C.cpython-37m-darwin.so\n  Reason: image not found",
     "output_type": "error",
     "traceback": [
      "\u001b[0;31m---------------------------------------------------------------------------\u001b[0m",
      "\u001b[0;31mImportError\u001b[0m                               Traceback (most recent call last)",
      "\u001b[0;32m<ipython-input-3-023fc2f17ba1>\u001b[0m in \u001b[0;36m<module>\u001b[0;34m\u001b[0m\n\u001b[1;32m      1\u001b[0m \u001b[0mget_ipython\u001b[0m\u001b[0;34m(\u001b[0m\u001b[0;34m)\u001b[0m\u001b[0;34m.\u001b[0m\u001b[0msystem\u001b[0m\u001b[0;34m(\u001b[0m\u001b[0;34m' pip install flair'\u001b[0m\u001b[0;34m)\u001b[0m\u001b[0;34m\u001b[0m\u001b[0;34m\u001b[0m\u001b[0m\n\u001b[0;32m----> 2\u001b[0;31m \u001b[0;32mimport\u001b[0m \u001b[0mflair\u001b[0m\u001b[0;34m\u001b[0m\u001b[0;34m\u001b[0m\u001b[0m\n\u001b[0m",
      "\u001b[0;32m~/opt/anaconda3/lib/python3.7/site-packages/flair/__init__.py\u001b[0m in \u001b[0;36m<module>\u001b[0;34m\u001b[0m\n\u001b[0;32m----> 1\u001b[0;31m \u001b[0;32mimport\u001b[0m \u001b[0mtorch\u001b[0m\u001b[0;34m\u001b[0m\u001b[0;34m\u001b[0m\u001b[0m\n\u001b[0m\u001b[1;32m      2\u001b[0m \u001b[0;32mfrom\u001b[0m \u001b[0mpathlib\u001b[0m \u001b[0;32mimport\u001b[0m \u001b[0mPath\u001b[0m\u001b[0;34m\u001b[0m\u001b[0;34m\u001b[0m\u001b[0m\n\u001b[1;32m      3\u001b[0m \u001b[0;34m\u001b[0m\u001b[0m\n\u001b[1;32m      4\u001b[0m \u001b[0;31m# global variable: cache_root\u001b[0m\u001b[0;34m\u001b[0m\u001b[0;34m\u001b[0m\u001b[0;34m\u001b[0m\u001b[0m\n\u001b[1;32m      5\u001b[0m \u001b[0mcache_root\u001b[0m \u001b[0;34m=\u001b[0m \u001b[0mPath\u001b[0m\u001b[0;34m(\u001b[0m\u001b[0mPath\u001b[0m\u001b[0;34m.\u001b[0m\u001b[0mhome\u001b[0m\u001b[0;34m(\u001b[0m\u001b[0;34m)\u001b[0m\u001b[0;34m,\u001b[0m \u001b[0;34m\".flair\"\u001b[0m\u001b[0;34m)\u001b[0m\u001b[0;34m\u001b[0m\u001b[0;34m\u001b[0m\u001b[0m\n",
      "\u001b[0;32m~/opt/anaconda3/lib/python3.7/site-packages/torch/__init__.py\u001b[0m in \u001b[0;36m<module>\u001b[0;34m\u001b[0m\n\u001b[1;32m     79\u001b[0m \u001b[0;32mdel\u001b[0m \u001b[0m_dl_flags\u001b[0m\u001b[0;34m\u001b[0m\u001b[0;34m\u001b[0m\u001b[0m\n\u001b[1;32m     80\u001b[0m \u001b[0;34m\u001b[0m\u001b[0m\n\u001b[0;32m---> 81\u001b[0;31m \u001b[0;32mfrom\u001b[0m \u001b[0mtorch\u001b[0m\u001b[0;34m.\u001b[0m\u001b[0m_C\u001b[0m \u001b[0;32mimport\u001b[0m \u001b[0;34m*\u001b[0m\u001b[0;34m\u001b[0m\u001b[0;34m\u001b[0m\u001b[0m\n\u001b[0m\u001b[1;32m     82\u001b[0m \u001b[0;34m\u001b[0m\u001b[0m\n\u001b[1;32m     83\u001b[0m __all__ += [name for name in dir(_C)\n",
      "\u001b[0;31mImportError\u001b[0m: dlopen(/Users/bluemountain/opt/anaconda3/lib/python3.7/site-packages/torch/_C.cpython-37m-darwin.so, 9): Library not loaded: @rpath/libshm.dylib\n  Referenced from: /Users/bluemountain/opt/anaconda3/lib/python3.7/site-packages/torch/_C.cpython-37m-darwin.so\n  Reason: image not found"
     ]
    }
   ],
   "source": [
    "! pip install flair\n",
    "import flair\n"
   ]
  },
  {
   "cell_type": "code",
   "execution_count": null,
   "metadata": {},
   "outputs": [],
   "source": []
  }
 ],
 "metadata": {
  "kernelspec": {
   "display_name": "PyCharm (introduction_to_ml_with_python)",
   "language": "python",
   "name": "pycharm-99a47f0"
  },
  "language_info": {
   "codemirror_mode": {
    "name": "ipython",
    "version": 3
   },
   "file_extension": ".py",
   "mimetype": "text/x-python",
   "name": "python",
   "nbconvert_exporter": "python",
   "pygments_lexer": "ipython3",
   "version": "3.7.6"
  },
  "varInspector": {
   "cols": {
    "lenName": 16,
    "lenType": 16,
    "lenVar": "100"
   },
   "kernels_config": {
    "python": {
     "delete_cmd_postfix": "",
     "delete_cmd_prefix": "del ",
     "library": "var_list.py",
     "varRefreshCmd": "print(var_dic_list())"
    },
    "r": {
     "delete_cmd_postfix": ") ",
     "delete_cmd_prefix": "rm(",
     "library": "var_list.r",
     "varRefreshCmd": "cat(var_dic_list()) "
    }
   },
   "types_to_exclude": [
    "module",
    "function",
    "builtin_function_or_method",
    "instance",
    "_Feature"
   ],
   "window_display": false
  }
 },
 "nbformat": 4,
 "nbformat_minor": 4
}
